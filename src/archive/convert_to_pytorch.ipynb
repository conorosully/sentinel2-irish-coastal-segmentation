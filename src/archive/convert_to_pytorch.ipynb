{
 "cells": [
  {
   "cell_type": "markdown",
   "id": "e900a6d7",
   "metadata": {},
   "source": [
    "# Convert tensorflow checkpoint to PyTorch model"
   ]
  },
  {
   "cell_type": "code",
   "execution_count": null,
   "id": "d8eebe3f",
   "metadata": {},
   "outputs": [
    {
     "ename": "ModuleNotFoundError",
     "evalue": "No module named 'tensorflow'",
     "output_type": "error",
     "traceback": [
      "\u001b[31m---------------------------------------------------------------------------\u001b[39m",
      "\u001b[31mModuleNotFoundError\u001b[39m                       Traceback (most recent call last)",
      "\u001b[36mCell\u001b[39m\u001b[36m \u001b[39m\u001b[32mIn[1]\u001b[39m\u001b[32m, line 1\u001b[39m\n\u001b[32m----> \u001b[39m\u001b[32m1\u001b[39m \u001b[38;5;28;01mimport\u001b[39;00m\u001b[38;5;250m \u001b[39m\u001b[34;01mtensorflow\u001b[39;00m\u001b[38;5;250m \u001b[39m\u001b[38;5;28;01mas\u001b[39;00m\u001b[38;5;250m \u001b[39m\u001b[34;01mtf\u001b[39;00m\n",
      "\u001b[31mModuleNotFoundError\u001b[39m: No module named 'tensorflow'"
     ]
    }
   ],
   "source": [
    "import tensorflow as tf\n",
    "from efficientnet_pytorch import EfficientNet\n",
    "from torch import nn\n",
    "import torch"
   ]
  },
  {
   "cell_type": "code",
   "execution_count": null,
   "id": "f334d7ee",
   "metadata": {},
   "outputs": [],
   "source": [
    "# Load tensorflow checkpoint\n",
    "checkpoint_path = \"../pretrained/checkpoint_EfficientNetB0/checkpoint\"  # path to your checkpoint folder\n",
    "ckpt = tf.train.Checkpoint()\n",
    "ckpt.restore(tf.train.latest_checkpoint(checkpoint_path)).expect_partial()"
   ]
  },
  {
   "cell_type": "code",
   "execution_count": null,
   "id": "47cca9e6",
   "metadata": {},
   "outputs": [],
   "source": [
    "# Explore the variables in the checkpoint\n",
    "for var in tf.train.list_variables(checkpoint_path):\n",
    "    print(var)"
   ]
  },
  {
   "cell_type": "code",
   "execution_count": null,
   "id": "f89f4f1b",
   "metadata": {},
   "outputs": [],
   "source": [
    "model = EfficientNet.from_name('efficientnet-b0')\n",
    "model._fc = nn.Linear(model._fc.in_features, 19) "
   ]
  },
  {
   "cell_type": "code",
   "execution_count": null,
   "id": "b03bf0f5",
   "metadata": {},
   "outputs": [],
   "source": [
    "# Example placeholder for mapping (you need to complete this based on your variables)\n",
    "tf_to_torch = {\n",
    "    'blocks_0/conv2d/kernel': 'blocks.0._depthwise_conv.weight',\n",
    "    'blocks_0/conv2d/bias': 'blocks.0._depthwise_conv.bias',\n",
    "    # ...continue mapping\n",
    "}\n",
    "\n",
    "# Load TF variables\n",
    "reader = tf.train.load_checkpoint(checkpoint_path)\n",
    "\n",
    "# Load state dict\n",
    "state_dict = model.state_dict()\n",
    "\n",
    "# Replace weights\n",
    "for tf_name, torch_name in tf_to_torch.items():\n",
    "    tensor = reader.get_tensor(tf_name)\n",
    "\n",
    "    # Convert TensorFlow tensor to PyTorch tensor and match shape if needed\n",
    "    tensor = torch.tensor(tensor)\n",
    "\n",
    "    if state_dict[torch_name].shape != tensor.shape:\n",
    "        print(f\"Shape mismatch for {torch_name}: expected {state_dict[torch_name].shape}, got {tensor.shape}\")\n",
    "        continue\n",
    "\n",
    "    state_dict[torch_name] = tensor\n",
    "\n",
    "# Load modified state dict back into model\n",
    "model.load_state_dict(state_dict)"
   ]
  },
  {
   "cell_type": "code",
   "execution_count": null,
   "id": "19328a10",
   "metadata": {},
   "outputs": [],
   "source": [
    "# Test forward pass\n",
    "model.eval()\n",
    "with torch.no_grad():\n",
    "    dummy_input = torch.randn(1, 3, 224, 224)\n",
    "    output = model(dummy_input)\n",
    "    print(output.shape)"
   ]
  }
 ],
 "metadata": {
  "kernelspec": {
   "display_name": "sics venv",
   "language": "python",
   "name": "sics"
  },
  "language_info": {
   "codemirror_mode": {
    "name": "ipython",
    "version": 3
   },
   "file_extension": ".py",
   "mimetype": "text/x-python",
   "name": "python",
   "nbconvert_exporter": "python",
   "pygments_lexer": "ipython3",
   "version": "3.11.9"
  }
 },
 "nbformat": 4,
 "nbformat_minor": 5
}
